{
 "cells": [
  {
   "cell_type": "code",
   "execution_count": 12,
   "metadata": {},
   "outputs": [],
   "source": [
    "import json\n",
    "from pprint import pprint"
   ]
  },
  {
   "cell_type": "code",
   "execution_count": 7,
   "metadata": {},
   "outputs": [],
   "source": [
    "with open('./navwarnings.json', 'r') as f:\n",
    "    data = json.load(f)"
   ]
  },
  {
   "cell_type": "code",
   "execution_count": 20,
   "metadata": {},
   "outputs": [],
   "source": [
    "for warningtype in data.keys():\n",
    "    for geojsonkey in data[warningtype].keys():\n",
    "        if geojsonkey == 'features':\n",
    "            for feature in data[warningtype][geojsonkey]:\n",
    "                if feature['geometry']['type'] == \"LineString\" and feature['geometry']['coordinates'][0] == feature['geometry']['coordinates'][-1]:\n",
    "                    feature['geometry']['type'] = 'Polygon'\n",
    "                    feature['geometry']['coordinates'] = [feature['geometry']['coordinates']]"
   ]
  },
  {
   "cell_type": "code",
   "execution_count": 24,
   "metadata": {},
   "outputs": [],
   "source": [
    "with open('./navwarnings-polygons.json', 'w') as of:\n",
    "    json.dump(data, of)"
   ]
  },
  {
   "cell_type": "code",
   "execution_count": null,
   "metadata": {},
   "outputs": [],
   "source": []
  }
 ],
 "metadata": {
  "kernelspec": {
   "display_name": "Python 3",
   "language": "python",
   "name": "python3"
  },
  "language_info": {
   "codemirror_mode": {
    "name": "ipython",
    "version": 3
   },
   "file_extension": ".py",
   "mimetype": "text/x-python",
   "name": "python",
   "nbconvert_exporter": "python",
   "pygments_lexer": "ipython3",
   "version": "3.6.8"
  }
 },
 "nbformat": 4,
 "nbformat_minor": 2
}
